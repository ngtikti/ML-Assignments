{
 "cells": [
  {
   "cell_type": "markdown",
   "metadata": {},
   "source": [
    "# Assignment 1"
   ]
  },
  {
   "cell_type": "markdown",
   "metadata": {},
   "source": [
    "by Timothy Ng"
   ]
  },
  {
   "cell_type": "code",
   "execution_count": 17,
   "metadata": {},
   "outputs": [
    {
     "name": "stdout",
     "output_type": "stream",
     "text": [
      "hello world\n"
     ]
    }
   ],
   "source": [
    "## Task 1\n",
    "#Q1\n",
    "print('hello world')"
   ]
  },
  {
   "cell_type": "code",
   "execution_count": 18,
   "metadata": {},
   "outputs": [
    {
     "name": "stdout",
     "output_type": "stream",
     "text": [
      "[2002, 2009, 2016, 2023, 2037, 2044, 2051, 2058, 2072, 2079, 2086, 2093, 2107, 2114, 2121, 2128, 2142, 2149, 2156, 2163, 2177, 2184, 2191, 2198, 2212, 2219, 2226, 2233, 2247, 2254, 2261, 2268, 2282, 2289, 2296, 2303, 2317, 2324, 2331, 2338, 2352, 2359, 2366, 2373, 2387, 2394, 2401, 2408, 2422, 2429, 2436, 2443, 2457, 2464, 2471, 2478, 2492, 2499, 2506, 2513, 2527, 2534, 2541, 2548, 2562, 2569, 2576, 2583, 2597, 2604, 2611, 2618, 2632, 2639, 2646, 2653, 2667, 2674, 2681, 2688, 2702, 2709, 2716, 2723, 2737, 2744, 2751, 2758, 2772, 2779, 2786, 2793, 2807, 2814, 2821, 2828, 2842, 2849, 2856, 2863, 2877, 2884, 2891, 2898, 2912, 2919, 2926, 2933, 2947, 2954, 2961, 2968, 2982, 2989, 2996, 3003, 3017, 3024, 3031, 3038, 3052, 3059, 3066, 3073, 3087, 3094, 3101, 3108, 3122, 3129, 3136, 3143, 3157, 3164, 3171, 3178, 3192, 3199]\n"
     ]
    }
   ],
   "source": [
    "#Q2\n",
    "x=range(2000,3201)\n",
    "y=[]\n",
    "z=0\n",
    "for i in x:\n",
    "    if not i%7 and i%5:\n",
    "        y.append(i)\n",
    "        \n",
    "print(y)"
   ]
  },
  {
   "cell_type": "code",
   "execution_count": 23,
   "metadata": {},
   "outputs": [
    {
     "name": "stdout",
     "output_type": "stream",
     "text": [
      "What's your first name?: tim\n",
      "What's your last name?: ng\n",
      "gn mit\n"
     ]
    }
   ],
   "source": [
    "#Q3\n",
    "firstname=input(\"What's your first name?: \")\n",
    "lastname=input(\"What's your last name?: \")\n",
    "\n",
    "print('{} {}'.format(lastname[::-1], firstname[::-1]))"
   ]
  },
  {
   "cell_type": "code",
   "execution_count": 33,
   "metadata": {},
   "outputs": [
    {
     "name": "stdout",
     "output_type": "stream",
     "text": [
      "904.7786842338604\n"
     ]
    }
   ],
   "source": [
    "#Q4\n",
    "import math\n",
    "d=12\n",
    "r=12/2\n",
    "v=(4*(r**3)*math.pi)/3\n",
    "print(v)"
   ]
  },
  {
   "cell_type": "code",
   "execution_count": 53,
   "metadata": {},
   "outputs": [
    {
     "name": "stdout",
     "output_type": "stream",
     "text": [
      "Input a list of number separated by commas: 1,2,3\n",
      "[1.0, 2.0, 3.0]\n"
     ]
    }
   ],
   "source": [
    "## Task 2\n",
    "#Q1\n",
    "numbers=input('Input a list of number separated by commas: ')\n",
    "num=numbers.split(',')\n",
    "num_f=[float(n) for n in num]\n",
    "print(num_f)"
   ]
  },
  {
   "cell_type": "code",
   "execution_count": 51,
   "metadata": {},
   "outputs": [
    {
     "name": "stdout",
     "output_type": "stream",
     "text": [
      "*\n",
      "**\n",
      "***\n",
      "****\n",
      "*****\n",
      "****\n",
      "***\n",
      "**\n",
      "*\n"
     ]
    }
   ],
   "source": [
    "#Q2\n",
    "for n in range(1,10):\n",
    "    while n<=5:\n",
    "        print('*'*n)\n",
    "        break\n",
    "    else:\n",
    "        print('*'*(10-n))"
   ]
  },
  {
   "cell_type": "code",
   "execution_count": 52,
   "metadata": {},
   "outputs": [
    {
     "name": "stdout",
     "output_type": "stream",
     "text": [
      "Key in a word to reverse: tim\n",
      "mit\n"
     ]
    }
   ],
   "source": [
    "#Q3\n",
    "word=input('Key in a word to reverse: ')\n",
    "print(word[::-1])"
   ]
  },
  {
   "cell_type": "code",
   "execution_count": 65,
   "metadata": {},
   "outputs": [
    {
     "name": "stdout",
     "output_type": "stream",
     "text": [
      "WE, THE PEOPLE OF INDIA, \n",
      "\thaving solemnly resolved to constitute India into a SOVEREIGN, \n",
      "\t\tSOCIALIST, SECULAR, DEMOCRATIC REPUBLIC \n",
      "\t\t and to secure to allits citizens\n"
     ]
    }
   ],
   "source": [
    "#Q4\n",
    "print(\"WE, THE PEOPLE OF INDIA, \\n\\thaving solemnly resolved to constitute India into a SOVEREIGN, \\n\\t\\tSOCIALIST, SECULAR, DEMOCRATIC REPUBLIC \\n\\t\\t and to secure to allits citizens\")"
   ]
  },
  {
   "cell_type": "code",
   "execution_count": null,
   "metadata": {},
   "outputs": [],
   "source": []
  }
 ],
 "metadata": {
  "kernelspec": {
   "display_name": "Python 3",
   "language": "python",
   "name": "python3"
  },
  "language_info": {
   "codemirror_mode": {
    "name": "ipython",
    "version": 3
   },
   "file_extension": ".py",
   "mimetype": "text/x-python",
   "name": "python",
   "nbconvert_exporter": "python",
   "pygments_lexer": "ipython3",
   "version": "3.7.1"
  }
 },
 "nbformat": 4,
 "nbformat_minor": 2
}
