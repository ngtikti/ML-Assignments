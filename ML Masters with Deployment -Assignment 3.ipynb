{
 "cells": [
  {
   "cell_type": "markdown",
   "metadata": {},
   "source": [
    "# Assignment 3"
   ]
  },
  {
   "cell_type": "markdown",
   "metadata": {},
   "source": [
    "By Timothy Ng"
   ]
  },
  {
   "cell_type": "code",
   "execution_count": 2,
   "metadata": {},
   "outputs": [
    {
     "name": "stdout",
     "output_type": "stream",
     "text": [
      "Can't compute\n"
     ]
    }
   ],
   "source": [
    "## Task 1\n",
    "#Q1\n",
    "def func():\n",
    "    try:\n",
    "        x= 5/0\n",
    "        return x\n",
    "    except:\n",
    "        print(\"Can't compute\")\n",
    "        \n",
    "func()\n",
    "    "
   ]
  },
  {
   "cell_type": "code",
   "execution_count": 27,
   "metadata": {},
   "outputs": [
    {
     "name": "stdout",
     "output_type": "stream",
     "text": [
      "Americans play Baseball\n",
      "Americans play Cricket\n",
      "Americans watch Baseball\n",
      "Americans watch Cricket\n",
      "Indians play Baseball\n",
      "Indians play Cricket\n",
      "Indians watch Baseball\n",
      "Indians watch Cricket\n"
     ]
    }
   ],
   "source": [
    "#Q2\n",
    "subjects=[\"Americans\",\"Indians\"]\n",
    "verbs=[\"play\",\"watch\"]\n",
    "objects=[\"Baseball\",\"Cricket\"]\n",
    "\n",
    "x = [i+' '+j+ ' '+k for i in subjects for j in verbs for k in objects]\n",
    "\n",
    "for h in x:\n",
    "    print(h)\n"
   ]
  },
  {
   "cell_type": "code",
   "execution_count": 28,
   "metadata": {},
   "outputs": [
    {
     "name": "stdout",
     "output_type": "stream",
     "text": [
      "Ok!\n",
      "Ok!\n",
      "Ok!\n",
      "Ok!\n",
      "Ok!\n",
      "Ok!\n",
      "Ok!\n",
      "Ok!\n",
      "Ok!\n",
      "Ok!\n",
      "Ok!\n",
      "Ok!\n",
      "Ok!\n",
      "Ok!\n",
      "Ok!\n",
      "Ok!\n",
      "Ok!\n",
      "Ok!\n",
      "Ok!\n",
      "Ok!\n",
      "Ok!\n",
      "Ok!\n",
      "Ok!\n",
      "Ok!\n",
      "Ok!\n",
      "Ok!\n",
      "Ok!\n",
      "Ok!\n"
     ]
    },
    {
     "data": {
      "text/plain": [
       "[[1, 1, 1, 1, 1, 1, 1],\n",
       " [64, 32, 16, 8, 4, 2, 1],\n",
       " [729, 243, 81, 27, 9, 3, 1],\n",
       " [15625, 3125, 625, 125, 25, 5, 1]]"
      ]
     },
     "execution_count": 28,
     "metadata": {},
     "output_type": "execute_result"
    }
   ],
   "source": [
    "## Task 2\n",
    "#Q1\n",
    "k=[1,2,3,5]\n",
    "# # k.index(2)\n",
    "# herp=[[0] * 3 for _ in range(len(k))]\n",
    "# herp\n",
    "\n",
    "def van(x,N): # x is the vector, N is number of column\n",
    "    herp=[[0] * N for _ in range(len(x))]\n",
    "    for i in range(0,N):\n",
    "        for j in x:\n",
    "            herp[x.index(j)][N-i-1]=j**i\n",
    "            print(\"Ok!\") #to debug which assignment fail\n",
    "    return herp\n",
    "\n",
    "van(k,7)"
   ]
  },
  {
   "cell_type": "code",
   "execution_count": null,
   "metadata": {},
   "outputs": [],
   "source": []
  }
 ],
 "metadata": {
  "kernelspec": {
   "display_name": "Python 3",
   "language": "python",
   "name": "python3"
  },
  "language_info": {
   "codemirror_mode": {
    "name": "ipython",
    "version": 3
   },
   "file_extension": ".py",
   "mimetype": "text/x-python",
   "name": "python",
   "nbconvert_exporter": "python",
   "pygments_lexer": "ipython3",
   "version": "3.7.1"
  }
 },
 "nbformat": 4,
 "nbformat_minor": 2
}
