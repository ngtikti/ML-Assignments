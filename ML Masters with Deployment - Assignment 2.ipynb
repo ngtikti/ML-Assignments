{
 "cells": [
  {
   "cell_type": "markdown",
   "metadata": {},
   "source": [
    "# Assignment 2"
   ]
  },
  {
   "cell_type": "markdown",
   "metadata": {},
   "source": [
    "by Timothy Ng"
   ]
  },
  {
   "cell_type": "code",
   "execution_count": 6,
   "metadata": {},
   "outputs": [
    {
     "name": "stdout",
     "output_type": "stream",
     "text": [
      "[3, 3, 4]\n",
      "[6, 4]\n",
      "[10]\n",
      "[10]\n"
     ]
    }
   ],
   "source": [
    "## Task 1\n",
    "# 1.1\n",
    "# from functools import reduce\n",
    "# # Returns the sum of all the elements using `reduce`\n",
    "# result = reduce((lambda a, b: a+ b), [1, 2, 3, 4])\n",
    "# print(result)\n",
    "# print(len([1,2,3,4]))\n",
    "def myreduce(func,sequence):\n",
    "\n",
    "    while len(sequence)>=2:\n",
    "        sequence[0]=func(sequence[0],sequence[1])\n",
    "        sequence.pop(1)\n",
    "        print(sequence)\n",
    "        \n",
    "    return sequence\n",
    "        \n",
    "        \n",
    "        \n",
    "result = myreduce((lambda a, b: a+ b), [1, 2, 3, 4])\n",
    "print(result)"
   ]
  },
  {
   "cell_type": "code",
   "execution_count": 9,
   "metadata": {},
   "outputs": [
    {
     "name": "stdout",
     "output_type": "stream",
     "text": [
      "[2]\n",
      "[2, 4]\n",
      "[2, 4, 6]\n",
      "[2, 4, 6, 8]\n"
     ]
    },
    {
     "data": {
      "text/plain": [
       "[2, 4, 6, 8]"
      ]
     },
     "execution_count": 9,
     "metadata": {},
     "output_type": "execute_result"
    }
   ],
   "source": [
    "# 1.2\n",
    "def myfilter(func, sequence):\n",
    "    t=[]\n",
    "    for i in range(len(sequence)):\n",
    "        if func(sequence[i]):\n",
    "            t.append(sequence[i])\n",
    "            print(t)\n",
    "    return t\n",
    "    \n",
    "    \n",
    "#First let's make a function\n",
    "def even_check(num):\n",
    "    if num%2 ==0:\n",
    "        return True\n",
    "\n",
    "lst =[1,2,3,4,5,6,7,8]\n",
    "\n",
    "list(myfilter(even_check,lst))"
   ]
  },
  {
   "cell_type": "code",
   "execution_count": 17,
   "metadata": {},
   "outputs": [
    {
     "name": "stdout",
     "output_type": "stream",
     "text": [
      "['A', 'C', 'A', 'D', 'G', 'I', 'L', 'D']\n",
      "['x', 'xx', 'xxx', 'xxxx', 'y', 'yy', 'yyy', 'yyyy', 'z', 'zz', 'zzz', 'zzzz']\n",
      "['x', 'y', 'z', 'xx', 'yy', 'zz', 'xx', 'yy', 'zz', 'xxxx', 'yyyy', 'zzzz']\n",
      "[[2], [3], [4], [3], [4], [5], [4], [5], [6]]\n",
      "[[2, 3, 4, 5], [3, 4, 5, 6], [4, 5, 6, 7], [5, 6, 7, 8]]\n",
      "[(1, 1), (2, 1), (3, 1), (1, 2), (2, 2), (3, 2), (1, 3), (2, 3), (3, 3)]\n"
     ]
    }
   ],
   "source": [
    "# 2\n",
    "a=['A','C','A','D','G','I','L','D']\n",
    "print(a)\n",
    "\n",
    "b= [x*i for x in ['x','y','z'] for i in range(1,5)]\n",
    "print(b)\n",
    "\n",
    "c= ['x', 'y', 'z', 'xx', 'yy', 'zz'] + [2*y for y in ['x', 'y', 'z', 'xx', 'yy', 'zz']]\n",
    "print(c)\n",
    "\n",
    "d=[[z+j] for z in range(1,4) for j in range(1,4)]\n",
    "print(d)\n",
    "\n",
    "e= [[1+k,2+k,3+k,4+k] for k in range(1,5)]\n",
    "print(e)\n",
    "\n",
    "f= [(m,l) for l in range(1,4) for m in range(1,4)]\n",
    "print(f)"
   ]
  },
  {
   "cell_type": "code",
   "execution_count": 7,
   "metadata": {},
   "outputs": [
    {
     "data": {
      "text/plain": [
       "'derppppp'"
      ]
     },
     "execution_count": 7,
     "metadata": {},
     "output_type": "execute_result"
    }
   ],
   "source": [
    "# 3\n",
    "def longestWord(words):\n",
    "    t=[]\n",
    "    for i in range(len(words)):\n",
    "        t.append(len(words[i]))\n",
    "    tmax_index=t.index(max(t))\n",
    "    return words[tmax_index]\n",
    "\n",
    "longestWord(['herp', 'derppppp'])"
   ]
  },
  {
   "cell_type": "code",
   "execution_count": 56,
   "metadata": {},
   "outputs": [
    {
     "data": {
      "text/plain": [
       "9.16515138991168"
      ]
     },
     "execution_count": 56,
     "metadata": {},
     "output_type": "execute_result"
    }
   ],
   "source": [
    "## Task 2\n",
    "# 1.1\n",
    "def calc_tri_area(s,a,b,c):\n",
    "    assert type(a) is int\n",
    "    assert type(b) is int\n",
    "    assert type(c) is int\n",
    "    assert type(s) is int\n",
    "    assert (s>a) & (s>b) & (s>c)\n",
    "    area=(s*(s-a)*(s-b)*(s-c)) ** 0.5\n",
    "    return area\n",
    "\n",
    "calc_tri_area(7,6,3,4)"
   ]
  },
  {
   "cell_type": "code",
   "execution_count": 9,
   "metadata": {},
   "outputs": [
    {
     "data": {
      "text/plain": [
       "['derppppp']"
      ]
     },
     "execution_count": 9,
     "metadata": {},
     "output_type": "execute_result"
    }
   ],
   "source": [
    "# 1.2\n",
    "def filter_long_words(words, n):\n",
    "    t=[]\n",
    "    for i in range(len(words)):\n",
    "        if len(words[i])>=n:\n",
    "            t.append(words[i])\n",
    "    return t\n",
    "\n",
    "filter_long_words(['herp', 'derppppp'],7)\n",
    "    "
   ]
  },
  {
   "cell_type": "code",
   "execution_count": 10,
   "metadata": {},
   "outputs": [
    {
     "data": {
      "text/plain": [
       "[4, 8]"
      ]
     },
     "execution_count": 10,
     "metadata": {},
     "output_type": "execute_result"
    }
   ],
   "source": [
    "# 2.1\n",
    "def wordstoint(words):\n",
    "    t=[]\n",
    "    for i in range(len(words)):\n",
    "        t.append(len(words[i]))\n",
    "    return t\n",
    "\n",
    "wordstoint(['herp', 'derppppp'])"
   ]
  },
  {
   "cell_type": "code",
   "execution_count": 27,
   "metadata": {},
   "outputs": [
    {
     "data": {
      "text/plain": [
       "True"
      ]
     },
     "execution_count": 27,
     "metadata": {},
     "output_type": "execute_result"
    }
   ],
   "source": [
    "#2.2\n",
    "b=['a','e','i','o','u']\n",
    "\n",
    "def vowel(a):\n",
    "    yep=0\n",
    "    for i in range(len(b)):\n",
    "        if a==b[i]:\n",
    "            yep+=1\n",
    "    if yep==1:\n",
    "        return(True)\n",
    "    else:\n",
    "        return(False)\n",
    "            \n",
    "vowel('o')"
   ]
  },
  {
   "cell_type": "code",
   "execution_count": null,
   "metadata": {},
   "outputs": [],
   "source": []
  }
 ],
 "metadata": {
  "kernelspec": {
   "display_name": "Python 3",
   "language": "python",
   "name": "python3"
  },
  "language_info": {
   "codemirror_mode": {
    "name": "ipython",
    "version": 3
   },
   "file_extension": ".py",
   "mimetype": "text/x-python",
   "name": "python",
   "nbconvert_exporter": "python",
   "pygments_lexer": "ipython3",
   "version": "3.7.1"
  }
 },
 "nbformat": 4,
 "nbformat_minor": 2
}
